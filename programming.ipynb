{
 "cells": [
  {
   "cell_type": "markdown",
   "id": "cf7a56f7-3ccd-40cd-bcc4-cb0f1c0e79e2",
   "metadata": {},
   "source": [
    "# Programming Review\n",
    "## `! git clone https://github.com/ds3001f25/programming.git`"
   ]
  },
  {
   "cell_type": "markdown",
   "id": "07643b28",
   "metadata": {},
   "source": [
    "## Introduction/Review of Programming\n",
    "-   This lecture reviews some Python programming essentials. Not exciting, but necessary for many students. \n",
    "-   There are many programming paradigms, but in data science, we typically use the *procedural programming* approach: We write a *script* file, containing a sequence of instructions, which we pass to an interpreter, which carries them out in real time as we iterate.\n",
    "    -   Imagine writing a \"script\" for a play: You name the characters (objects), you give them lines and tell them what to do (expressions, functions), and the director makes it all happen (control structures, interpreter)\n",
    "-   By contrast, for example, in *object oriented programming*, you design an abstraction of an object that a user will interact with through a variety of methods: For example, one object in Excel is a spreadsheet, and the programming revolves around how the user interacts with spreadsheets."
   ]
  },
  {
   "cell_type": "markdown",
   "id": "c545f8ee-0e84-489d-b0ac-2352c4480d6f",
   "metadata": {
    "editable": true,
    "slideshow": {
     "slide_type": ""
    },
    "tags": []
   },
   "source": [
    "## Git and GitHub\n",
    "- Remember, Git is version control software that allows teams of people to work on a project all at the same time, track their changes, and merge their work back together. GitHub is a web-based service that hosts directories that use Git, called **repositories** or \"repos.\"\n",
    "- Over the course, we'll gradually introduce more features of Git and GitHub, and by the end, it will just be the ecosystem we're all working in together.\n",
    "- For now, you'll just import this lecture by going to Google Colab and `File -> Open Notebook -> GitHub -> Enter: https://github.com/ds3001f25/programming.git -> programming.ipynb`\n",
    "- Remember, files and work are not persistent on Colab, so make sure to download any files you edit and want to keep before you exit Colab (you can download and upload a notebook for homework, for example)"
   ]
  },
  {
   "cell_type": "markdown",
   "id": "309476bf",
   "metadata": {},
   "source": [
    "## Visual Studio Code\n",
    "- If you prefer VS Code, you can use it on your laptop and Rivanna\n",
    "- Instead of launching a session using Jupyter Lab, you just click ''Code Server''\n",
    "- VS Code requires just a bit more sophistication on the part of the user, but integration with GitHub is better than Jupyter Lab --- the program itself will handle pushing/pulling from GitHub for you, but you have to be able to (1) navigate a filesystem on your own at the command line and (2) make choices about which Python kernel you want to use for your work"
   ]
  },
  {
   "cell_type": "markdown",
   "id": "0ecbf770",
   "metadata": {},
   "source": [
    "## Getting Started: Objects\n",
    "\n",
    "-   We assign *values* to *objects* in Python using the $=$ operator. For example, the value 5 is assigned to the object $x$ by typing:"
   ]
  },
  {
   "cell_type": "code",
   "execution_count": 1,
   "id": "6cb7358a",
   "metadata": {},
   "outputs": [],
   "source": [
    "x = 5 "
   ]
  },
  {
   "cell_type": "markdown",
   "id": "292f57d0",
   "metadata": {},
   "source": [
    "- To have Python exhibit the value of an object in output, you use the `print()` function:"
   ]
  },
  {
   "cell_type": "code",
   "execution_count": 2,
   "id": "b9e564f6",
   "metadata": {},
   "outputs": [
    {
     "name": "stdout",
     "output_type": "stream",
     "text": [
      "5\n"
     ]
    }
   ],
   "source": [
    "print(x)"
   ]
  },
  {
   "cell_type": "markdown",
   "id": "9cb0e22f",
   "metadata": {},
   "source": [
    "- You can manipulate the value of $x$ numerically the way you'd expect (mostly):"
   ]
  },
  {
   "cell_type": "code",
   "execution_count": 3,
   "id": "545e3bf9",
   "metadata": {},
   "outputs": [
    {
     "name": "stdout",
     "output_type": "stream",
     "text": [
      "10\n",
      "25\n"
     ]
    }
   ],
   "source": [
    "print(2*x) # Multiplication\n",
    "print(x**2) # Exponentiation"
   ]
  },
  {
   "cell_type": "markdown",
   "id": "6783a066",
   "metadata": {},
   "source": [
    "## Objects: Naming Conventions\n",
    "\n",
    "-   Try to give objects names that suggest clearly what they are: $x$ and $temp$ can get reused by accident and cause problems when you overwrite their values later on, or you might forget what they actually are when reading the code later\n",
    "-   *Camel case*: looks like `firstRegression`\n",
    "-   *Snake case*: looks like `first_regression`\n",
    "- Avoid putting the _ at the beginning of a variable name in Python: Sometimes, it can interpret this symbol in ways that influence how the code runs"
   ]
  },
  {
   "cell_type": "markdown",
   "id": "96a28e9f",
   "metadata": {},
   "source": [
    "## Commenting Code\n",
    "\n",
    "-   The most important thing to do when writing code, is *comment* it\n",
    "-   In Python, when you write a sharp-hash-pound, $\\#$, it tells the interpreter to stop reading and executing, and skip the rest of that line\n",
    "-   In a month, when you return to code from the beginning of class for a project, you will wish you commented your code so you can remember what various lines do\n",
    "-   You don't have to comment every line, but important or hard-to-read parts should be documented for other people or your future self\n",
    "-   You can also \"comment out\" code you don't want to be run without deleting it"
   ]
  },
  {
   "cell_type": "code",
   "execution_count": 4,
   "id": "ed5b6d7c",
   "metadata": {},
   "outputs": [
    {
     "name": "stdout",
     "output_type": "stream",
     "text": [
      "5\n"
     ]
    }
   ],
   "source": [
    "x = 5  # 5 is assigned to x\n",
    "# x = 7  # This line is \"commented out\"\n",
    "print(x) # x is still 5"
   ]
  },
  {
   "cell_type": "markdown",
   "id": "e71a1fe7",
   "metadata": {},
   "source": [
    "## Objects: Types\n",
    "\n",
    "- All objects in Python have *types*: What kind of a thing is this?\n",
    "- *Integer* (`int`): Taking whole number values, like ..., -2, -1, 0, 1, 2, ...\n",
    "- *Floating-Point* (`float`): Essentially, real numbers. You can signal to Python that something is a float by initializing its value as 0.0 rather than 0.\n",
    "- *Boolean* (`bool`): Takes the values `True` [1] or `False` [0]. \n",
    "- *Strings* (`str`): Strings of \"text\" (including letters, numbers, symbols)\n",
    "\n",
    "```\n",
    "y = \"Machine Learning @ 8:00 a.m.\"\n",
    "```\n",
    "You can use double \"\" or single '' quotes, but they have to match. The symbol `\\` has to be handled with care, since this is the *escape character* that Pyton interprets as a formatting command, like a newline `\\n` or a backslash `\\\\`. This matters a lot when dealing with text data.\n",
    "- *Complex Numbers* (`complex`): Values involving $\\sqrt{-1}$. These are used in data science mainly in time series analysis, and won't come up in this class.\n"
   ]
  },
  {
   "cell_type": "code",
   "execution_count": 5,
   "id": "53f8b3b5",
   "metadata": {},
   "outputs": [
    {
     "name": "stdout",
     "output_type": "stream",
     "text": [
      "This is a string. \n",
      "This is a new line. \n",
      "This is a single backslash: \\.\n"
     ]
    }
   ],
   "source": [
    "string = 'This is a string. \\nThis is a new line. \\nThis is a single backslash: \\\\.'\n",
    "print(string)"
   ]
  },
  {
   "cell_type": "markdown",
   "id": "398762ae",
   "metadata": {},
   "source": [
    "## Boolean Arithmetic\n",
    "- When you pass a Boolean into a calculation, it *coerces* `True` to 1 and `False` to zero, then evaluates the resulting expression\n",
    "- We will end up using this kind of type coercion all the time, since we will often create Boolean variables to capture complicated qualitative states (e.g. \"Is this defendant facing felony charges and do they have a prior conviction?\")"
   ]
  },
  {
   "cell_type": "code",
   "execution_count": 6,
   "id": "430bcab4",
   "metadata": {},
   "outputs": [
    {
     "name": "stdout",
     "output_type": "stream",
     "text": [
      "0\n",
      "1\n",
      "1\n",
      "0\n",
      "2\n"
     ]
    }
   ],
   "source": [
    "# Some Boolean Arithmetic\n",
    "x = True\n",
    "y = False\n",
    "z = True\n",
    "w = False\n",
    "print(x*y) # x and y?\n",
    "print(x+y-x*y) # x or y?\n",
    "print(x+z-x*z) # x or z?\n",
    "print(y+w-y*w) # y or w?\n",
    "print(2*x) "
   ]
  },
  {
   "cell_type": "markdown",
   "id": "75cf6b8d",
   "metadata": {},
   "source": [
    "## Objects: Ordered Collection Types\n",
    "- We often collect objects together into a collection, but the best way to represent that collection depends on the natural relationships the objects have with one another\n",
    "- A *list* is an ordered collection of objects which can be changed after it is defined. Python lists are initialized using brackets, `x=[...]`.\n",
    "- A *tuple* is an ordered collection of objects, but cannot be edited or changed after it is initialized. Python tuples are initialized using parentheses, `x=(...)`.\n",
    "- Every string object is an ordered collection of letters/symbols, like a list."
   ]
  },
  {
   "cell_type": "code",
   "execution_count": 7,
   "id": "c55f41ef-b4ce-4f54-b67d-63a296e1180a",
   "metadata": {},
   "outputs": [
    {
     "name": "stdout",
     "output_type": "stream",
     "text": [
      "(3, 5, 7)\n",
      "[3, 5, 7]\n",
      "[3, 5, 8]\n"
     ]
    }
   ],
   "source": [
    "x = (3,5,7)\n",
    "print(x)\n",
    "# x[2] = 8 # Throws an error\n",
    "# print(x)\n",
    "x = [3,5,7]\n",
    "print(x)\n",
    "x[2] = 8\n",
    "print(x)"
   ]
  },
  {
   "cell_type": "markdown",
   "id": "04f8a76f-5dc4-45fc-93c9-8033a60b3696",
   "metadata": {},
   "source": [
    "## Objects: Unordered Collection Types\n",
    "- A *set* is an unordered object, like the , but supports useful set operators. Python sets are initialized using braces, `x={...}`. The objects in a set can be of any kind (tuple, list, other sets, objects of any class type).\n",
    "- A *dictionary* is an unordered collection of key-value pairs, like, `x = { key1: value1, key2: value2, ... }`\n",
    "    - `x = { 'Name': 'University of Virginia', 'City': 'Charlottesville', 'State': 'VA' }`\n",
    "- Like a set, a dictionary can hold multiple objects of different types\n",
    "- Sets and dictionaries can be particularly useful if you want to return multiple outputs for a function: Put everything you want to return into the set or dictionary, and then return that object."
   ]
  },
  {
   "cell_type": "code",
   "execution_count": 8,
   "id": "9dcc0d80-bdff-4383-ac11-82375b512987",
   "metadata": {},
   "outputs": [
    {
     "name": "stdout",
     "output_type": "stream",
     "text": [
      "{'Virginia Tech', 'University of Virginia', 'College of William and Mary', 'George Mason University'}\n",
      "<class 'set'> \n",
      "\n",
      "{'Name': 'University of Virginia', 'City': 'Charlottesville', 'State': 'VA'}\n",
      "Charlottesville\n",
      "<class 'dict'>\n"
     ]
    }
   ],
   "source": [
    "x = { 'University of Virginia', 'Virginia Tech', 'George Mason University', 'College of William and Mary'}\n",
    "print(x) # Notice the order\n",
    "print(type(x),'\\n')\n",
    "x = { 'Name': 'University of Virginia', 'City': 'Charlottesville', 'State': 'VA' }\n",
    "print(x)\n",
    "print(x['City']) \n",
    "print(type(x))"
   ]
  },
  {
   "cell_type": "markdown",
   "id": "15bfb62d",
   "metadata": {},
   "source": [
    "## Objects: Collection Types\n",
    "- The built-in Python collection types are useful, but will probably not behave exactly as you expect\n",
    "- We'll quickly add in NumPy, a package that does numerical vector and matrix calculations the way you would expect\n",
    "- Our data wrangling package, Pandas, builds its approach to modeling data on NumPy"
   ]
  },
  {
   "cell_type": "code",
   "execution_count": 9,
   "id": "16c2721c",
   "metadata": {},
   "outputs": [
    {
     "name": "stdout",
     "output_type": "stream",
     "text": [
      "(3, 2, 7, 3, 2, 7)\n",
      "(3, 2, 7, 3, 2, 7)\n"
     ]
    }
   ],
   "source": [
    "x = (3,2,7)\n",
    "print(x+x) # This is concatenation, not vector addition\n",
    "print(2*x) # This is concatenation, not scalar multiplication"
   ]
  },
  {
   "cell_type": "markdown",
   "id": "75a1a2ab",
   "metadata": {},
   "source": [
    "## Indexing: Order and Counting\n",
    "- Every `string` in Python is an ordered structure, like tuples and lists\n",
    "- Here, *ordered* is easy to understand: The sequence in which letters appear in a word is important, and that relationship needs to be preserved for the word to make sense\n",
    "- Please listen: *Python indexes the order of elements from zero, rather than one*\n",
    "- Imagine you have the string \"Apple\"\n",
    "- What is the first letter of the word \"Apple\"? It is \"A\"\n",
    "- At what *index* is the letter \"A\" stored by Python in the string \"Apple\"? It is stored at 0\n",
    "- Notice the \"boundary conditions\": Negative indices \"wrap\" around the word."
   ]
  },
  {
   "cell_type": "code",
   "execution_count": 10,
   "id": "b98317e0",
   "metadata": {},
   "outputs": [
    {
     "name": "stdout",
     "output_type": "stream",
     "text": [
      "p\n",
      "A\n",
      "e\n",
      "l\n",
      "p\n",
      "A\n"
     ]
    }
   ],
   "source": [
    "x = 'Apple'\n",
    "print(x[1])\n",
    "print(x[0])\n",
    "print(x[-1])\n",
    "print(x[-2])\n",
    "print(x[-3])\n",
    "print(x[-5])\n",
    "# print(x[5]) # This throws an out-of-range error\n",
    "# print(x[-6]) # This throws an out-of-range error"
   ]
  },
  {
   "cell_type": "markdown",
   "id": "910996cd",
   "metadata": {},
   "source": [
    "## Functions\n",
    "- When a piece of code is so useful that you want to re-use it, you create a *function*\n",
    "- Functions take any kind of input -- numeric, string, boolean, data set, other functions etc. -- and return some kind of output\n",
    "- The syntax for this is `functionName(arguments)`\n",
    "- For example, the function `len(x)` gives the length of `x`: The number of items in the collection\n",
    "-  Many functions and operators are defined for many types of objects\n"
   ]
  },
  {
   "cell_type": "code",
   "execution_count": 11,
   "id": "27eabda5",
   "metadata": {},
   "outputs": [
    {
     "name": "stdout",
     "output_type": "stream",
     "text": [
      "5\n"
     ]
    }
   ],
   "source": [
    "x = 'Apple'\n",
    "print(len(x))"
   ]
  },
  {
   "cell_type": "markdown",
   "id": "11ebda92",
   "metadata": {},
   "source": [
    "## Some Useful Functions\n",
    "- `type(x)` returns the kind of object that `x` is, like a float or Boolean\n",
    "- `len(x)` returns the number of elements of `x`\n",
    "- `sum(x)` returns the sum of the elements of `x`\n",
    "- `abs(x)` returns the absolute value of `x` (but only if `x` is a number and not a collection)\n",
    "- `round(x,n)` rounds `x` to the `n`-th decimal place\n",
    "- `max(x)` and `min(x)` give the largest and smallest values in the collection `x`\n",
    "- But, there is no `mean(x)` function in base Python. What do we do?"
   ]
  },
  {
   "cell_type": "markdown",
   "id": "1559ea5f",
   "metadata": {},
   "source": [
    "## Defining a Function\n",
    "- Sometimes, the functions we want are not available, or we've written some code that is specific to our work but so valuable we want to reuse it\n",
    "- Python is very particular about *whitespace*. It has a set of conventions that follow what previous programmers were naturally doing to format their code, which is indenting it to set off blocks of calculations to make it easier to read. This eliminates the ubiquitous `;` and `{}` in C.\n",
    "- Python is very loose about object typing, so you don't need to be very careful about defining functions and objects: It just assumes things will work.\n",
    "- If you want to return lots of results, you have to think about how to build the object that you pass back out of the function (e.g. dictionaries or class objects you created)"
   ]
  },
  {
   "cell_type": "code",
   "execution_count": 12,
   "id": "64a55f46",
   "metadata": {},
   "outputs": [
    {
     "name": "stdout",
     "output_type": "stream",
     "text": [
      "4.4\n"
     ]
    }
   ],
   "source": [
    "def mean(x):   # Declare the function, mean, and its inputs, x\n",
    "    \"\"\"Computes the mean of a list or tuple.\"\"\"\n",
    "    m = sum(x)/len(x)  # Perform calculations/evaluate expressions\n",
    "    return m   # Return an object with your results\n",
    "\n",
    "x = (2,3,-1,7,11) # Example tuple of values\n",
    "print(mean(x))"
   ]
  },
  {
   "cell_type": "markdown",
   "id": "9626bd52",
   "metadata": {},
   "source": [
    "## Functions and Objects\n",
    "- Objects typically have their own functions that they carry around with them\n",
    "- These special functions are built when the object is created: This allows us to build abstractions called *classes* \n",
    "- For example, suppose you want to convert a string `x` to all lowercase letters. You don't use `lower(x)`, you use `x.lower()`\n",
    "- In general, `x.y` tells Python to look inside `x` for `y`. If you see `x.y()`, then `y()` is a function inside `x` called a **class method**, and if you see `x.y`, it means `.y` is an **class instance attribute** of `x`\n",
    "- This will come up all the time, since dataframes in Python are objects with many built in functions that operate directly on the data frame, and the notation becomes easier and more natural to follow with experience."
   ]
  },
  {
   "cell_type": "code",
   "execution_count": 13,
   "id": "922bdca1",
   "metadata": {},
   "outputs": [
    {
     "name": "stdout",
     "output_type": "stream",
     "text": [
      "<built-in method format of str object at 0x105aabaf0>\n",
      "apple\n"
     ]
    },
    {
     "data": {
      "text/plain": [
       "'APPLE'"
      ]
     },
     "execution_count": 13,
     "metadata": {},
     "output_type": "execute_result"
    }
   ],
   "source": [
    "x = 'Apple'   # x is an object of class string\n",
    "print(x.format) # Class instance attribute\n",
    "print(x.lower())   # Class method called `lower`\n",
    "# lower(x)   # This produces an error and doesn't work\n",
    "'Apple'.upper() # You can call class methods directly on an object as it is constructed"
   ]
  },
  {
   "cell_type": "markdown",
   "id": "2c6fa41a-0ed4-40cb-a7c1-8ec10cb09298",
   "metadata": {},
   "source": [
    "## Type Coercion/Casting\n",
    "- When cleaning data, you often have data that is numeric, but stored as, say, a string, like '\"\\$10.00\"'\n",
    "- This can be a nuisance: You can easily lose data when an entry like \"$12,000\" is assumed by the computer to be text and dropped from the dataset as missing when a calculation is attempted\n",
    "- In order to force an object into a different type, we can use *type coercion/casting*, where we tell Python to try changing from, say, a string to a float\n",
    "- To coercion an object `x` into a float, you type `y = float(x)`, and similarly for `bool(x)`, `int(x)`, and `str(x)`  "
   ]
  },
  {
   "cell_type": "code",
   "execution_count": 14,
   "id": "1eba4d8b-28b0-44cd-9b9e-50cf6354856e",
   "metadata": {},
   "outputs": [
    {
     "name": "stdout",
     "output_type": "stream",
     "text": [
      "<class 'str'>\n",
      "<class 'float'>\n",
      "25.0\n",
      "True\n"
     ]
    }
   ],
   "source": [
    "x = '5' # x starts as a string\n",
    "print(type(x)) # What type is x?\n",
    "y = float(x) # Convert x to a float called y\n",
    "print(type(y)) # What type is y?\n",
    "print(y**2) # The square of y\n",
    "print(bool(\"1\")) # Convert a string of the number 1 to Boolean"
   ]
  },
  {
   "cell_type": "markdown",
   "id": "b434335e",
   "metadata": {},
   "source": [
    "## Ordered Collections: Indexing\n",
    "- When you have an ordered object, like a string or tuple or list, you can easily make selections from it by indexing\n",
    "- Here we run into a bit of an issue: Python starts *indexing* elements in ordered collections from 0, not 1\n",
    "- *Indexing is not counting* (in Python, C, etc., versus languages that index from 1, like R, FORTRAN, MATLAB, etc.)\n",
    "- This means that the \"first\" element in a tuple corresponds to index number 0, the \"second\" element corresponds to index number 1, and so on. \n",
    "- You can think of selecting the n-th element from `x` by typing `x[n-1]`, but at this point you have to make the psychological shift to thinking of `x[0]` as the first element and thinking directly of `x[n]` as the $n-1$-st element of `x` "
   ]
  },
  {
   "cell_type": "code",
   "execution_count": 15,
   "id": "a849382e",
   "metadata": {},
   "outputs": [
    {
     "name": "stdout",
     "output_type": "stream",
     "text": [
      "3\n",
      "2\n",
      "10\n"
     ]
    }
   ],
   "source": [
    "x = (3,2,7,-1,10)\n",
    "print(x[0]) # First element\n",
    "print(x[1]) # Second element\n",
    "print(x[-1]) # Notice the boundary conditions: No error\n",
    "# print(x[(1,3,5)]) # This does not work (fancy indexing)"
   ]
  },
  {
   "cell_type": "markdown",
   "id": "5ab9846a",
   "metadata": {},
   "source": [
    "## Ordered Collections: Slicing\n",
    "- Sometimes you want to select a set of indices all at once, and preserve the order\n",
    "- This is called *slicing*, where you provide a tuple of values\n",
    "- To slice, you use the notation `x[a:b]`. This will return the elements `x[a]` to `x[b-1]` as an ordered collection (remember, indexing is not counting)\n",
    "- If you use `x[:b]` it implicitly sets `a=0`, and if you use `x[a:]` it takes the values from `a` to the end of the ordered object"
   ]
  },
  {
   "cell_type": "code",
   "execution_count": 16,
   "id": "4fa6bd7a",
   "metadata": {},
   "outputs": [
    {
     "name": "stdout",
     "output_type": "stream",
     "text": [
      "(3, 2, 7)\n",
      "(2, 7, -1)\n",
      "(7, -1, 10)\n",
      "(3, 2)\n",
      "(7, -1, 10)\n"
     ]
    }
   ],
   "source": [
    "x = (3,2,7,-1,10)\n",
    "print(x[0:3]) # First, second, third elements\n",
    "print(x[1:4]) # Second, third, fourth elements\n",
    "print(x[2:]) # Third item to the end\n",
    "print(x[:2]) # First item to the third\n",
    "print(x[2:100]) # Notice the range"
   ]
  },
  {
   "cell_type": "markdown",
   "id": "cab5df4c",
   "metadata": {},
   "source": [
    "## Slicing From Zero\n",
    "- Since Python *counts from zero*, when you request `x[1]`, it gives you the *second* item in `x`. The *first* item in `x` is `x[0]`. What happens when you slice?\n",
    "- If you are indexing from zero and request `2:4`, you get the *third* and *fourth* items in the list, and two items rather than three (you might expected items 2, 3, and 4, but that is not what you get!)\n",
    "- So everything is shifted to the left by 1 so that the zero-th element corresponds to the first entry in a tuple or list\n",
    "- I think in terms of \"$<$ starting from 0\" rather than \"$\\le$ starting from 1\", but if that's not helpful forget I said anything\n",
    "- If you are coming from R or MATLAB, this will probably be an adjustment"
   ]
  },
  {
   "cell_type": "markdown",
   "id": "9e02b858",
   "metadata": {},
   "source": [
    "## Object Equivalence/Comparison\n",
    "- To test if an object $x$ is equivalent to another object $y$, you can use the `==` operator, which returns `True` or `False`. \n",
    "- Be careful not to confuse the equivalence operator `==` with the assignment operator `=`.\n",
    "- Along with `==`, you can test for greater-than `>`, less-than `<`, greater-than-or-equal-to `>=`, less-than-or-equal-to `<=`, or not-equal-to `!=`\n",
    "- This is done for the object as a whole, not element-by-element, but if you want to check if a value `z` is in a collection `x`, you can use the `in` operator, like `5 in (2,-1,5,8)`"
   ]
  },
  {
   "cell_type": "code",
   "execution_count": 17,
   "id": "d6dfa69a",
   "metadata": {},
   "outputs": [
    {
     "name": "stdout",
     "output_type": "stream",
     "text": [
      "True\n",
      "False\n",
      "False\n",
      "False\n"
     ]
    },
    {
     "data": {
      "text/plain": [
       "True"
      ]
     },
     "execution_count": 17,
     "metadata": {},
     "output_type": "execute_result"
    }
   ],
   "source": [
    "x = (2,3,5)\n",
    "y = (2,3,5)\n",
    "z = (-2,4,11)\n",
    "print(x == y) # x and y are the same, pointwise\n",
    "print(y == z) # x and z are not equal\n",
    "print(x == 3) # 3 is an element of x, but x is not equal to the float 3\n",
    "print(5 == '5') # The integer 5 versus the string '5'\n",
    "x = ['Abby','Amir','Alejandro']\n",
    "'Amir' in x\n",
    "'Kyle' not in x"
   ]
  },
  {
   "cell_type": "markdown",
   "id": "415cdf6b",
   "metadata": {},
   "source": [
    "## Modules and Packages\n",
    "- Python is a general purpose computing language, so it doesn't come with a lot of pre-loaded functionality\n",
    "- A *module* is a .py file that includes a set of user-written functions. A *package* is a directory of modules with an `__init__.py` file that tells the Python interpreter how to load the package.\n",
    "- To import a package `package`, you type `import package as workingName`. You typically want the working name to be very short but clearly point to the package, to keep code clean but readable."
   ]
  },
  {
   "cell_type": "markdown",
   "id": "1a9e9e2e-9ec3-4154-8e29-3f4a1edc6388",
   "metadata": {},
   "source": [
    "## Modules and Packages\n",
    "- There are some packages that we will spend time with:\n",
    "    - Pandas: Data frames and statistics, `import pandas as pd`\n",
    "    - MatPlotLib: A package that creates plots, `import matplotlib.pyplot as plt`\n",
    "    - SeaBorn: Slightly nicer looking plots, `import seaborn as sns`\n",
    "    - Scikit-Learn: A popular machine learning package, `import sklearn as sk`\n",
    "    - NumPy: Numerical analysis for Python, `import numpy as np`\n",
    "    - StatsModels: Statistics regression package, `import statsmodels.api as sm`\n",
    "    - Keras: Neural network package, similar api to Scikit \n",
    "- By installing and loading packages, you can quickly build a Python environment appropriate for data science"
   ]
  },
  {
   "cell_type": "code",
   "execution_count": 18,
   "id": "e3ecd10a-d494-4274-acff-84c086429be6",
   "metadata": {},
   "outputs": [
    {
     "name": "stdout",
     "output_type": "stream",
     "text": [
      "[[-1.74976547  0.3426804 ]\n",
      " [ 1.1530358  -0.25243604]\n",
      " [ 0.98132079  0.51421884]\n",
      " [ 0.22117967 -1.07004333]\n",
      " [-0.18949583  0.25500144]\n",
      " [-0.45802699  0.43516349]\n",
      " [-0.58359505  0.81684707]\n",
      " [ 0.67272081 -0.10441114]\n",
      " [-0.53128038  1.02973269]\n",
      " [-0.43813562 -1.11831825]]\n"
     ]
    },
    {
     "data": {
      "text/plain": [
       "<matplotlib.collections.PathCollection at 0x10a28eec0>"
      ]
     },
     "execution_count": 18,
     "metadata": {},
     "output_type": "execute_result"
    },
    {
     "data": {
      "image/png": "[encoded data removed]",
      "text/plain": [
       "<Figure size 640x480 with 1 Axes>"
      ]
     },
     "metadata": {},
     "output_type": "display_data"
    }
   ],
   "source": [
    "import numpy as np # Load the NumPy package into our workspace\n",
    "np.random.seed(100) # Set the seed for the random number generator\n",
    "sample = np.random.randn(10,2) # Create a random sample of normal draws\n",
    "print(sample)\n",
    "import matplotlib.pyplot as plt # Load the matplotlib plotter as plt\n",
    "plt.scatter(sample[:,0],sample[:,1]) # Create a scatterplot to plot the sample"
   ]
  },
  {
   "cell_type": "markdown",
   "id": "335be199-46e1-4785-ad4f-bbfcb7b04f75",
   "metadata": {},
   "source": [
    "## NumPy\n",
    "- Recall that `2*[1,3] = [1,3,1,3]`, not `[2,6]` (concatenation not scalar multiplication)\n",
    "- You *could* create your own function that implements scalar multiplication, but there is a high quality scientific computing and numerical analysis package called **NumPy** that already does these things\n",
    "- We will use Numpy a lot but rarely talk about it, since it is typically \"under the hood\"\n",
    "- Numpy implements efficient linear algebra and numerical methods in Python, so that you can do scalar and vector multiplication, multiply and invert matrices, and so on\n",
    "- Numpy has an array class that supports efficient multiplication of vectors and matrices: Convert a Python list `x` to a Numpy array with `np.array(x)`"
   ]
  },
  {
   "cell_type": "code",
   "execution_count": 19,
   "id": "6d701578-755c-4280-8679-2596ec891456",
   "metadata": {},
   "outputs": [
    {
     "name": "stdout",
     "output_type": "stream",
     "text": [
      "[3, 5, 7, 3, 5, 7]\n",
      "[ 6 10 14]\n",
      "[2 3 4]\n",
      "-34\n",
      "[0.3 0.5 0.7]\n"
     ]
    }
   ],
   "source": [
    "import numpy as np # Import the Numpy package into your workspace\n",
    "x = [3,5,7] # A standard Python list\n",
    "print(2*x) # Concatenation of lists\n",
    "y = np.array(x) # Convert Python list x to Numpy array y\n",
    "print(2*y) # Scalar multiplication, like we want\n",
    "z = np.array([-1,-2,-3]) # Initialize a numpy array in one step\n",
    "print(y+z) # Vector addition, like we want\n",
    "print(np.inner(y,z)) # Inner product of vectors\n",
    "print(y/10.0) # Elements of y, divided by 10"
   ]
  },
  {
   "cell_type": "markdown",
   "id": "df41de4e-eca6-403d-8c4d-2f4e329df9a8",
   "metadata": {},
   "source": [
    "## NumPy Functions\n",
    "- Numpy arrays have useful class methods:\n",
    "    - `x.min()`, `x.max()`, `x.mean()`, `x.median()`, `x.sum()`, `x.sort()`, `x.round()` all do what you would expect\n",
    "- The Numpy package itself also has many useful functions that are not class methods:\n",
    "    - `np.where(x == value)` : Determines the indices of $x$ that equal `value`\n",
    "    - `np.linspace(a,b,N)` makes a grid from `a` to `b` of `N` equally spaced points\n",
    "    - `np.arange(a,b,step)` makes a grid from `a` to `b-step` of points spaced by `step`"
   ]
  },
  {
   "cell_type": "code",
   "execution_count": 20,
   "id": "10842134-861b-426e-864f-f8b50a58e800",
   "metadata": {},
   "outputs": [
    {
     "name": "stdout",
     "output_type": "stream",
     "text": [
      "[2.         2.33333333 2.66666667 3.         3.33333333 3.66666667\n",
      " 4.         4.33333333 4.66666667 5.        ] \n",
      "\n",
      "(array([6]),) \n",
      "\n",
      "[2.  2.1 2.2 2.3 2.4 2.5 2.6 2.7 2.8 2.9 3.  3.1 3.2 3.3 3.4 3.5 3.6 3.7\n",
      " 3.8 3.9 4.  4.1 4.2 4.3 4.4 4.5 4.6 4.7 4.8 4.9]\n"
     ]
    }
   ],
   "source": [
    "import numpy as np\n",
    "x = np.linspace(2,5,10) # Grid from 2 to 5 with 10 steps\n",
    "print(x,'\\n')\n",
    "print( np.where( x == 4.0 ), '\\n') # Which x equals 4.0?\n",
    "y = np.arange(2.0,5.0,.1) # Grid from 2 to 5 by .1\n",
    "print(y)"
   ]
  },
  {
   "cell_type": "markdown",
   "id": "0664ce85-2beb-4039-b192-75ec2846d0a1",
   "metadata": {},
   "source": [
    "## NumPy `nan` handling methods\n",
    "- Since missing values are modeled as NumPy's `nan` value, there are rules for interacting with them:\n",
    "    - `nan` is a value, initialized as `x=np.nan`\n",
    "    - Any arithmetic involving a `nan` evaluates to `nan`\n",
    "    - If you want to check if a variable or value is `nan`, you do not use `==`, but instead use the NumPy method `np.isnan(x)` to check if `x` is a `nan` --- this is super important to understand for cleaning data"
   ]
  },
  {
   "cell_type": "code",
   "execution_count": 21,
   "id": "abff8b75-fd91-4f49-a6d2-0ca3f480317e",
   "metadata": {},
   "outputs": [
    {
     "name": "stdout",
     "output_type": "stream",
     "text": [
      "nan\n",
      "nan\n",
      "nan\n",
      "False\n",
      "False\n",
      "True\n"
     ]
    }
   ],
   "source": [
    "import numpy as np\n",
    "x = np.nan\n",
    "y = 1\n",
    "print(1+x) # nan\n",
    "print(x*y) # nan\n",
    "print(x/y) # nan\n",
    "print(x == np.nan) # False, **probably don't do this**\n",
    "print(x == y) # False, **probably don't do this**\n",
    "print(np.isnan(x)) # True"
   ]
  },
  {
   "cell_type": "markdown",
   "id": "a97f19d2-e80b-476a-91af-5f8de5ff0443",
   "metadata": {},
   "source": [
    "## MatPlotLib\n",
    "- In a lot of situations, we just want to plot some $x$ values against $y$ values: this is called a **scatterplot**\n",
    "- To make a quick scatterplot, `import matplotlib.pyplot as plt` and use the `plt.scatter(x,y)` method\n",
    "- To plot functions, `x=np.linspace(min,max,N_steps)` creates a grid from `min` to `max` with a total of `N_steps`\n",
    "- You can then typically pass the grid `x` to the function `y=f(x)`, and then plot $(x,y)$"
   ]
  },
  {
   "cell_type": "code",
   "execution_count": 22,
   "id": "66e189df-d36d-4abf-bf62-c974b6eae504",
   "metadata": {},
   "outputs": [
    {
     "data": {
      "text/plain": [
       "<matplotlib.collections.PathCollection at 0x10a398ac0>"
      ]
     },
     "execution_count": 22,
     "metadata": {},
     "output_type": "execute_result"
    },
    {
     "data": {
      "image/png": "[encoded data removed]",
      "text/plain": [
       "<Figure size 640x480 with 1 Axes>"
      ]
     },
     "metadata": {},
     "output_type": "display_data"
    }
   ],
   "source": [
    "import numpy as np # Import the Numpy package into your workspace\n",
    "x = np.linspace(-5,5,100) # create a grid from -5 to 5 of 100 points\n",
    "y = x+6*np.sin(x) # Compute the value of the function y = x+6*sin(x)\n",
    "import matplotlib.pyplot as plt # Import pyplot from matplotlib as plt\n",
    "plt.scatter(x,y) # Create scatterplot"
   ]
  },
  {
   "cell_type": "markdown",
   "id": "99b667a2",
   "metadata": {},
   "source": [
    "## Control Structures\n",
    "- Computers become powerful when you can use them to iterate on a task and handle complex instructions that you couldn't do yourself using, say, a spreadsheet\n",
    "- The two most useful for use are the `for` loop and `if-else` switching  "
   ]
  },
  {
   "cell_type": "markdown",
   "id": "93106741",
   "metadata": {},
   "source": [
    "## `if-else`\n",
    "- In many cases, you have an object `x`, and depending on its value, you want different things to happen as the code runs:"
   ]
  },
  {
   "cell_type": "code",
   "execution_count": 23,
   "id": "404263bd",
   "metadata": {},
   "outputs": [
    {
     "name": "stdout",
     "output_type": "stream",
     "text": [
      "x is positive\n",
      "x is:  1\n"
     ]
    }
   ],
   "source": [
    "import random\n",
    "\n",
    "x = random.randint(-1,1) # Draw a random value for x\n",
    "\n",
    "if x < 0:\n",
    "    print('x is negative')\n",
    "elif x == 0: # 'else if' becomes 'elif'\n",
    "    print('x is zero')\n",
    "else: # Since the only remaining case is x>0, we don't have to write it explicitly\n",
    "    print('x is positive')\n",
    "\n",
    "print('x is: ', str(x) )\n"
   ]
  },
  {
   "cell_type": "markdown",
   "id": "645fa6d0",
   "metadata": {},
   "source": [
    "## `for` loops\n",
    "- We often face the following scenario: We have a dataset with $N$ elements, and want to process each of the elements in a specific way\n",
    "- For example, we want to compute the second-highest bid placed in 5,000 auctions, to see what values the winners had to beat, on average\n",
    "- The loop has three ingredients:\n",
    "    - The **index**, usually `i` or `j` or `k`, but it can be whatever you want\n",
    "    - The **iterator**, which describes the range over which the index will run\n",
    "    - A code block that you want to apply to each element of the iterator\n",
    "- These ingredients get combined into a loop. Here, we'll convert the index into a string, just so the loop is doing something:"
   ]
  },
  {
   "cell_type": "code",
   "execution_count": 24,
   "id": "bb19cd88",
   "metadata": {},
   "outputs": [
    {
     "name": "stdout",
     "output_type": "stream",
     "text": [
      "['0', '1', '2', '3', '4', '5', '6', '7', '8', '9']\n"
     ]
    }
   ],
   "source": [
    "results = [] # Initialize an empty list\n",
    "\n",
    "for index in range(10): # The iterator is range(10)\n",
    "    results.append(str(index)) # Add the i-th result to the results list\n",
    "\n",
    "print(results)"
   ]
  },
  {
   "cell_type": "markdown",
   "id": "30e94d89",
   "metadata": {},
   "source": [
    "- This is a really common pattern: Set up an empty list, then append results of the analysis to the list.\n",
    "- This is such a common pattern, that Python has a one-line way to implement this called a **list comprehension**:"
   ]
  },
  {
   "cell_type": "code",
   "execution_count": 25,
   "id": "d03b5765",
   "metadata": {},
   "outputs": [
    {
     "name": "stdout",
     "output_type": "stream",
     "text": [
      "['0', '1', '2', '3', '4', '5', '6', '7', '8', '9']\n"
     ]
    }
   ],
   "source": [
    "results = [ str(index) for index in range(10) ]\n",
    "print(results) "
   ]
  },
  {
   "cell_type": "markdown",
   "id": "2ca4da33",
   "metadata": {},
   "source": [
    "- There's even a third way to do this kind of thing! You pass a function and an iterator to the `map` function. The `map` function evaluates **lazily**, so it doesn't actually run until it's needed. To trigger it, add `list()` around it:"
   ]
  },
  {
   "cell_type": "code",
   "execution_count": 26,
   "id": "0e379a00",
   "metadata": {},
   "outputs": [
    {
     "name": "stdout",
     "output_type": "stream",
     "text": [
      "['0', '1', '2', '3', '4', '5', '6', '7', '8', '9']\n"
     ]
    }
   ],
   "source": [
    "results = list( map( str, range(10) ) )\n",
    "print(results)"
   ]
  },
  {
   "cell_type": "markdown",
   "id": "7ed5c9a8",
   "metadata": {},
   "source": [
    "- So there are a lot of ways to get Python to iterate for you. Why is that?"
   ]
  },
  {
   "cell_type": "markdown",
   "id": "9ef89159",
   "metadata": {},
   "source": [
    "## Python and Performance\n",
    "- The reason to use Python is that it is **efficient for you**, not that it is a high performance language\n",
    "- Instead of thinking just about hardware/software and run time, if you take developer time and suffering into account, Python becomes an efficient language in big picture terms\n",
    "- It is undeniable, however, that Python does not compare favorably to languages like C/C++ or Rust in terms of speed\n",
    "- Python is not an \"efficient\" language for at least a few reasons:\n",
    "    1. It is interpreted, so all of the code is compiled (converted from human-readable to machine-readable) as the IPython interpreter reads your work line by line. This replicates lots of work and isn't globally optimized, slowing everything down.\n",
    "    2. Python has a Global Interpreter Lock, so only one set of instructions (thread) can be processed at a time. This makes it hard to take advantage of your multiple CPU cores and GPU(s).\n",
    "    3. The packages you're using are often not that efficient themselves: Unless they're calling compiled C, FORTRAN, or Rust code for use with Python, the above problems get compounded (e.g. Pandas is built on NumPy, Polars is an API to Rust code)\n",
    "- Python fans will say, \"There are ways to address these shortcomings!\" Yeah, ok, but I only have so many hours in my life\n",
    "- If there are problems, this is how you escalate:\n",
    "    1. Substitute vectorization and `map` when possible rather than using for loops. Passing arguments as vectors to, for example, NumPy will vastly speed things up \n",
    "    2. Use packages that call efficient code written in low-level languages (e.g. Pandas is build on Numpy, but Polars is built in Rust).\n",
    "    3. Use Numba's just-in-time compilation tools to convert your interpreted Python code to compiled Python code.\n",
    "    4. Use multiprocessing/multithreading. In Python, these packages are kind of a hassle.\n",
    "    5. Write the slow code in C/C++ or FORTRAN or Rust, and call it from Python. These languages don't have the GIL and aren't interpreted, so doing this solves most of your problems."
   ]
  },
  {
   "cell_type": "markdown",
   "id": "8fb4dd8b",
   "metadata": {},
   "source": [
    "## Understanding Python\n",
    "- The secret to Python is that most of its counter-intuitive features are trying to avoid a performance bottleneck, introduced by the choice to make it an interpreted language that only ones one thread at a time. For example, \n",
    "    - In `for i in range(K)`, the `range()` function is an iterator: It doesn't actually make a list of numbers from 0 to K-1. Instead of using a `return` statement, it uses a Python-ism, `yield`. The actual list of numbers from 0 to K-1 is never constructed, it just spits out the next number in the list when needed. This is efficient in terms of memory, but can be awkward to code with.\n",
    "    - In the Python `multiprocessing` package, to get around the GIL, the package essentially launches more instances of the IPython interpreter and divides the work among those instances using `pickle` to pass objects back and forth. \n",
    "- If you run into features of the language you find strange, there is probably a hidden reason that has to do with performance"
   ]
  },
  {
   "cell_type": "markdown",
   "id": "cfc7cbf6",
   "metadata": {},
   "source": [
    "## Example #1\n",
    "- To illustrate what we're talking about here, let's sum 500,000 numbers and compare speed:\n",
    "    - A `for` loop\n",
    "    - Vectorized Numpy code"
   ]
  },
  {
   "cell_type": "code",
   "execution_count": 27,
   "id": "b8701442",
   "metadata": {},
   "outputs": [
    {
     "name": "stdout",
     "output_type": "stream",
     "text": [
      "Loop time:  0.07419204711914062\n",
      "np time:  0.00020599365234375\n",
      "Numpy is about  360.1666666666667 times faster.\n"
     ]
    }
   ],
   "source": [
    "import numpy as np\n",
    "import time\n",
    "\n",
    "N = 1000000\n",
    "np.random.seed(101)\n",
    "\n",
    "X = np.random.random_sample(N)\n",
    "\n",
    "## For loop:\n",
    "t0 = time.time()\n",
    "##\n",
    "sum = 0\n",
    "for i in range(N):\n",
    "    sum += X[i]\n",
    "##\n",
    "t1 = time.time()\n",
    "loop_time = t1-t0\n",
    "print('Loop time: ', loop_time)\n",
    "\n",
    "## Numpy:\n",
    "t0 = time.time()\n",
    "##\n",
    "sum = np.sum(X)\n",
    "##\n",
    "t1 = time.time()\n",
    "np_time = t1-t0\n",
    "print('np time: ', np_time)\n",
    "\n",
    "print('Numpy is about ', loop_time/np_time, 'times faster.')"
   ]
  },
  {
   "cell_type": "markdown",
   "id": "724f2efb",
   "metadata": {},
   "source": [
    "What's funny about this is that, under the hood, Numpy is probably calling a function compiled in C/C++ called \"sum\" that is just a loop written in a compiled language exactly the way you'd write it. "
   ]
  },
  {
   "cell_type": "markdown",
   "id": "bdea748c",
   "metadata": {},
   "source": [
    "## Example #2\n",
    "- There are some tasks that aren't easily vectorized: It's not just applying a mathematical function to each element of a list in sequence\n",
    "- As an example, let's count the number of words in a list of 2,224 news text summaries and compare speed:\n",
    "    - A `for` loop with appending\n",
    "    - List comprehension: Re-write the `for` loop on one line \n",
    "    - The map function: Pass the iterable and the function doing the work as arguments"
   ]
  },
  {
   "cell_type": "code",
   "execution_count": 28,
   "id": "d41f4743",
   "metadata": {},
   "outputs": [
    {
     "name": "stdout",
     "output_type": "stream",
     "text": [
      "2224\n"
     ]
    },
    {
     "data": {
      "text/plain": [
       "['- Increase in the stamp duty threshold from ¬£60,000 - A freeze on petrol duty - An extension of tax credit scheme for poorer families - Possible help for pensioners The stamp duty threshold rise is intended to help first time buyers - a likely theme of all three of the main parties\\' general election manifestos.The chancellor is expected to freeze petrol duty and raise the stamp duty threshold from ¬£60,000.The Tories are also thought likely to propose increased thresholds, with shadow chancellor Oliver Letwin branding stamp duty a \"classic Labour stealth tax\".Tax credits As a result, the number of properties incurring stamp duty has rocketed as has the government\\'s tax take.Since then, average UK property prices have more than doubled while the starting threshold for stamp duty has not increased.For the Lib Dems David Laws said: \"The chancellor will no doubt tell us today how wonderfully the economy is doing,\" he said.The Liberal Democrats unveiled their own proposals to raise the stamp duty threshold to ¬£150,000 in February.\"If Labour is elected there will be a very substantial tax increase in the Budget after the election, of the order of around ¬£10bn.\"',\n",
       " '\"They are very much not for the good and will destroy Scotland\\'s regiments by moulding them into a single super regiment which will lead to severe recruitment problems, a loss of local connections to those regiments and a loss to Scotland of an important part of her heritage and, most importantly, her future - the regiments are the envy of armies around the world.\"The proposals to either merge or amalgamate the six regiments into a super regiment sparked a political outcry, with Labour backbenchers and opposition politicians opposing the plan.The proposals include cutting Scotland\\'s six single-battalion regiments to five and merging these into a super regiment.Speaking in Scotland last week, Mr Blair said the aim was to preserve tradition but introduce a more effective structure and hinted that a super regiment was likely.A committee of the Army Board, which is made up of the most senior defence figures, will discuss plans for restructuring regiments on Monday.Speaking ahead of the expected Army Board meeting, a spokesman said: \"The government and the Army Board have spent the past four months attempting to trick serving soldiers and the public into thinking their planned changes for the Scottish regiments are for the good of the Army and for that of the serving soldier.Under their vision, it would be one of five in the new super regiment.He said: \"They don\\'t want to get rid of the history or the traditions of the regiment or the local connections - far from it, all they want to do is make sure they can transfer people easily across regiments and deploy them more flexibly.\"',\n",
       " 'Michael Howard has denied his shadow cabinet was split over its decision to back controversial Labour plans to introduce ID cards.Mr Howard said the police had said ID cards could \"help them foil a terror bomb plot in which people could lose their lives\".He said: \"This has all the signs of Michael Howard overruling colleagues\\' concerns over ID cards.\"He also said he was confident shadow home secretary Mr Davis would \"set out the position very clearly\" when he stands up to debate the matter next week.He had decided to support the plans as the police said they would help fight terror, crime and illegal immigration.Tory ex-minister Douglas Hogg said he opposed the plans for ID cards branding them a \"regressive\" step which would intrude into the lives of ordinary citizens without any counterbalancing benefits.They said they would also press Labour over whether objectives could be met and whether the Home Office would be able to deliver them.But Mr Howard denied Mr Yeo, his transport and environment spokesman, said the plans \"stink\".Sources within the party told the BBC Mr Howard had always been in favour of ID cards, and tried to introduce them when he was Home Secretary.If they haven\\'t [ID cards] they are going to be detained.\"And they pledged to assess the cost effectiveness of ID cards and whether people\\'s privacy would be properly protected.']"
      ]
     },
     "execution_count": 28,
     "metadata": {},
     "output_type": "execute_result"
    }
   ],
   "source": [
    "## Load text summaries:\n",
    "import pickle \n",
    "with open('news-summary.pkl', 'rb') as f:\n",
    "    # Load the object from the file\n",
    "    text = pickle.load(f)\n",
    "\n",
    "print(len(text))\n",
    "\n",
    "text[0:3]"
   ]
  },
  {
   "cell_type": "code",
   "execution_count": 29,
   "id": "c295592a",
   "metadata": {},
   "outputs": [
    {
     "name": "stdout",
     "output_type": "stream",
     "text": [
      "loop time:  0.009092092514038086\n",
      "lc time:  0.008249044418334961\n",
      "map time:  0.008255958557128906\n"
     ]
    }
   ],
   "source": [
    "## The loop:\n",
    "t0 = time.time()\n",
    "##\n",
    "lengths = []\n",
    "for i in range(len(text)):\n",
    "    length_i = len( str.split(text[i]) )\n",
    "    lengths.append(length_i)\n",
    "##\n",
    "t1 = time.time()\n",
    "loop_time = t1-t0\n",
    "print('loop time: ', loop_time)\n",
    "\n",
    "## List comprehension:\n",
    "t0 = time.time()\n",
    "##\n",
    "lengths = [ len( str.split(text[i]) ) for i in range(len(text)) ] \n",
    "##\n",
    "t1 = time.time()\n",
    "lc_time = t1-t0\n",
    "print('lc time: ', lc_time)\n",
    "\n",
    "## Map function:\n",
    "t0 = time.time()    \n",
    "##\n",
    "lengths = list( map( lambda some_text: len( str.split(some_text) ), text) )\n",
    "##\n",
    "t1 = time.time()\n",
    "map_time = t1-t0\n",
    "print('map time: ', map_time)"
   ]
  },
  {
   "cell_type": "markdown",
   "id": "b625e0b2",
   "metadata": {},
   "source": [
    "- These all have reasonably similar performance time for a problem at this scale. \n",
    "- At https://www.python.org/doc/essays/list2str/, it says \"Try to use map(), filter() or reduce() to replace an explicit for loop, but only if you can use a built-in function: map with a built-in function beats for loop, but a for loop with in-line code beats map with a lambda function!\" There are no easy answers, I guess."
   ]
  },
  {
   "cell_type": "markdown",
   "id": "252e035a-2090-42a2-a69d-a402a2cc31d7",
   "metadata": {},
   "source": [
    "## Python Review\n",
    "- If you've done any programming, Python is a pretty easy language to use\n",
    "    - Dynamic types, interpreted, packages are easy to import, simple control controls with whitespace\n",
    "- This review isn't enough to make you a Python programmer or anything, and we haven't talked about the \"style guidelines\" for Python code at all, but it's enough to be useful during the course\n",
    "- For data science, what matters about a language is mostly the packages it supports: All of the efficient code is written in a compiled language like C++, anyway\n",
    "- Even if you don't like Python, it's nice to know and the general skills we'll learn easily transfer to R or MATLAB or any other programming language"
   ]
  }
 ],
 "metadata": {
  "kernelspec": {
   "display_name": "Python 3 (ipykernel)",
   "language": "python",
   "name": "python3"
  },
  "language_info": {
   "codemirror_mode": {
    "name": "ipython",
    "version": 3
   },
   "file_extension": ".py",
   "mimetype": "text/x-python",
   "name": "python",
   "nbconvert_exporter": "python",
   "pygments_lexer": "ipython3",
   "version": "3.10.18"
  }
 },
 "nbformat": 4,
 "nbformat_minor": 5
}
